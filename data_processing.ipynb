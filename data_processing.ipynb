{
 "cells": [
  {
   "cell_type": "code",
   "execution_count": 1,
   "metadata": {},
   "outputs": [],
   "source": [
    "import pandas as pd\n",
    "import numpy as np\n",
    "import matplotlib.pyplot as plt\n",
    "from sklearn.impute import SimpleImputer\n",
    "import seaborn as sb"
   ]
  },
  {
   "cell_type": "markdown",
   "metadata": {},
   "source": [
    "### Load Data"
   ]
  },
  {
   "cell_type": "code",
   "execution_count": 2,
   "metadata": {},
   "outputs": [],
   "source": [
    "# 325 patients; expression data and clinical data\n",
    "gene_data = pd.read_csv('data/study_1/expression_data.csv')\n",
    "clinical_data = pd.read_csv('data/study_1/clinical_data.csv')"
   ]
  },
  {
   "cell_type": "markdown",
   "metadata": {},
   "source": [
    "### Sample Data Samples - Expression"
   ]
  },
  {
   "cell_type": "code",
   "execution_count": 3,
   "metadata": {},
   "outputs": [
    {
     "data": {
      "text/html": [
       "<div>\n",
       "<style scoped>\n",
       "    .dataframe tbody tr th:only-of-type {\n",
       "        vertical-align: middle;\n",
       "    }\n",
       "\n",
       "    .dataframe tbody tr th {\n",
       "        vertical-align: top;\n",
       "    }\n",
       "\n",
       "    .dataframe thead th {\n",
       "        text-align: right;\n",
       "    }\n",
       "</style>\n",
       "<table border=\"1\" class=\"dataframe\">\n",
       "  <thead>\n",
       "    <tr style=\"text-align: right;\">\n",
       "      <th></th>\n",
       "      <th>Gene_Name</th>\n",
       "      <th>CGGA_1001</th>\n",
       "      <th>CGGA_1006</th>\n",
       "      <th>CGGA_1007</th>\n",
       "      <th>CGGA_1011</th>\n",
       "      <th>CGGA_1015</th>\n",
       "      <th>CGGA_1019</th>\n",
       "      <th>CGGA_1022</th>\n",
       "      <th>CGGA_1023</th>\n",
       "      <th>CGGA_1024</th>\n",
       "      <th>...</th>\n",
       "      <th>CGGA_1246</th>\n",
       "      <th>CGGA_1275</th>\n",
       "      <th>CGGA_1450</th>\n",
       "      <th>CGGA_1460</th>\n",
       "      <th>CGGA_1475</th>\n",
       "      <th>CGGA_243</th>\n",
       "      <th>CGGA_247</th>\n",
       "      <th>CGGA_738</th>\n",
       "      <th>CGGA_759</th>\n",
       "      <th>CGGA_D30</th>\n",
       "    </tr>\n",
       "  </thead>\n",
       "  <tbody>\n",
       "    <tr>\n",
       "      <th>0</th>\n",
       "      <td>A1BG</td>\n",
       "      <td>12.64</td>\n",
       "      <td>7.03</td>\n",
       "      <td>30.09</td>\n",
       "      <td>6.64</td>\n",
       "      <td>1.83</td>\n",
       "      <td>39.03</td>\n",
       "      <td>12.96</td>\n",
       "      <td>9.28</td>\n",
       "      <td>2.35</td>\n",
       "      <td>...</td>\n",
       "      <td>4.46</td>\n",
       "      <td>28.42</td>\n",
       "      <td>19.32</td>\n",
       "      <td>2.24</td>\n",
       "      <td>18.89</td>\n",
       "      <td>4.03</td>\n",
       "      <td>5.29</td>\n",
       "      <td>4.64</td>\n",
       "      <td>7.07</td>\n",
       "      <td>31.41</td>\n",
       "    </tr>\n",
       "    <tr>\n",
       "      <th>1</th>\n",
       "      <td>A1BG-AS1</td>\n",
       "      <td>2.12</td>\n",
       "      <td>1.13</td>\n",
       "      <td>6.64</td>\n",
       "      <td>4.32</td>\n",
       "      <td>1.39</td>\n",
       "      <td>4.46</td>\n",
       "      <td>3.25</td>\n",
       "      <td>1.90</td>\n",
       "      <td>1.22</td>\n",
       "      <td>...</td>\n",
       "      <td>1.57</td>\n",
       "      <td>8.36</td>\n",
       "      <td>2.21</td>\n",
       "      <td>1.60</td>\n",
       "      <td>5.31</td>\n",
       "      <td>2.47</td>\n",
       "      <td>3.69</td>\n",
       "      <td>0.85</td>\n",
       "      <td>1.99</td>\n",
       "      <td>2.65</td>\n",
       "    </tr>\n",
       "    <tr>\n",
       "      <th>2</th>\n",
       "      <td>A2M</td>\n",
       "      <td>452.92</td>\n",
       "      <td>106.54</td>\n",
       "      <td>206.70</td>\n",
       "      <td>707.17</td>\n",
       "      <td>824.32</td>\n",
       "      <td>155.14</td>\n",
       "      <td>538.33</td>\n",
       "      <td>26.39</td>\n",
       "      <td>219.35</td>\n",
       "      <td>...</td>\n",
       "      <td>87.20</td>\n",
       "      <td>243.89</td>\n",
       "      <td>73.80</td>\n",
       "      <td>111.50</td>\n",
       "      <td>340.53</td>\n",
       "      <td>108.06</td>\n",
       "      <td>97.24</td>\n",
       "      <td>160.70</td>\n",
       "      <td>263.66</td>\n",
       "      <td>192.54</td>\n",
       "    </tr>\n",
       "    <tr>\n",
       "      <th>3</th>\n",
       "      <td>A2M-AS1</td>\n",
       "      <td>3.30</td>\n",
       "      <td>0.13</td>\n",
       "      <td>0.63</td>\n",
       "      <td>1.61</td>\n",
       "      <td>1.34</td>\n",
       "      <td>3.08</td>\n",
       "      <td>0.72</td>\n",
       "      <td>1.96</td>\n",
       "      <td>1.48</td>\n",
       "      <td>...</td>\n",
       "      <td>0.42</td>\n",
       "      <td>1.02</td>\n",
       "      <td>0.22</td>\n",
       "      <td>0.15</td>\n",
       "      <td>0.91</td>\n",
       "      <td>0.33</td>\n",
       "      <td>0.03</td>\n",
       "      <td>0.38</td>\n",
       "      <td>0.48</td>\n",
       "      <td>2.51</td>\n",
       "    </tr>\n",
       "    <tr>\n",
       "      <th>4</th>\n",
       "      <td>A2ML1</td>\n",
       "      <td>0.04</td>\n",
       "      <td>0.33</td>\n",
       "      <td>4.96</td>\n",
       "      <td>1.59</td>\n",
       "      <td>0.00</td>\n",
       "      <td>0.10</td>\n",
       "      <td>0.39</td>\n",
       "      <td>2.34</td>\n",
       "      <td>0.68</td>\n",
       "      <td>...</td>\n",
       "      <td>2.58</td>\n",
       "      <td>0.55</td>\n",
       "      <td>0.15</td>\n",
       "      <td>1.75</td>\n",
       "      <td>0.05</td>\n",
       "      <td>1.55</td>\n",
       "      <td>0.71</td>\n",
       "      <td>3.33</td>\n",
       "      <td>0.60</td>\n",
       "      <td>3.86</td>\n",
       "    </tr>\n",
       "  </tbody>\n",
       "</table>\n",
       "<p>5 rows × 326 columns</p>\n",
       "</div>"
      ],
      "text/plain": [
       "  Gene_Name  CGGA_1001  CGGA_1006  CGGA_1007  CGGA_1011  CGGA_1015  CGGA_1019  \\\n",
       "0      A1BG      12.64       7.03      30.09       6.64       1.83      39.03   \n",
       "1  A1BG-AS1       2.12       1.13       6.64       4.32       1.39       4.46   \n",
       "2       A2M     452.92     106.54     206.70     707.17     824.32     155.14   \n",
       "3   A2M-AS1       3.30       0.13       0.63       1.61       1.34       3.08   \n",
       "4     A2ML1       0.04       0.33       4.96       1.59       0.00       0.10   \n",
       "\n",
       "   CGGA_1022  CGGA_1023  CGGA_1024  ...  CGGA_1246  CGGA_1275  CGGA_1450  \\\n",
       "0      12.96       9.28       2.35  ...       4.46      28.42      19.32   \n",
       "1       3.25       1.90       1.22  ...       1.57       8.36       2.21   \n",
       "2     538.33      26.39     219.35  ...      87.20     243.89      73.80   \n",
       "3       0.72       1.96       1.48  ...       0.42       1.02       0.22   \n",
       "4       0.39       2.34       0.68  ...       2.58       0.55       0.15   \n",
       "\n",
       "   CGGA_1460  CGGA_1475  CGGA_243  CGGA_247  CGGA_738  CGGA_759  CGGA_D30  \n",
       "0       2.24      18.89      4.03      5.29      4.64      7.07     31.41  \n",
       "1       1.60       5.31      2.47      3.69      0.85      1.99      2.65  \n",
       "2     111.50     340.53    108.06     97.24    160.70    263.66    192.54  \n",
       "3       0.15       0.91      0.33      0.03      0.38      0.48      2.51  \n",
       "4       1.75       0.05      1.55      0.71      3.33      0.60      3.86  \n",
       "\n",
       "[5 rows x 326 columns]"
      ]
     },
     "execution_count": 3,
     "metadata": {},
     "output_type": "execute_result"
    }
   ],
   "source": [
    "gene_data.head()"
   ]
  },
  {
   "cell_type": "markdown",
   "metadata": {},
   "source": [
    "### Sample Data Samples - Clinical"
   ]
  },
  {
   "cell_type": "code",
   "execution_count": 4,
   "metadata": {},
   "outputs": [
    {
     "data": {
      "text/html": [
       "<div>\n",
       "<style scoped>\n",
       "    .dataframe tbody tr th:only-of-type {\n",
       "        vertical-align: middle;\n",
       "    }\n",
       "\n",
       "    .dataframe tbody tr th {\n",
       "        vertical-align: top;\n",
       "    }\n",
       "\n",
       "    .dataframe thead th {\n",
       "        text-align: right;\n",
       "    }\n",
       "</style>\n",
       "<table border=\"1\" class=\"dataframe\">\n",
       "  <thead>\n",
       "    <tr style=\"text-align: right;\">\n",
       "      <th></th>\n",
       "      <th>CGGA_ID</th>\n",
       "      <th>PRS_type</th>\n",
       "      <th>Histology</th>\n",
       "      <th>Grade</th>\n",
       "      <th>Gender</th>\n",
       "      <th>Age</th>\n",
       "      <th>OS</th>\n",
       "      <th>Censor</th>\n",
       "      <th>Radio_status</th>\n",
       "      <th>Chemo_status</th>\n",
       "      <th>IDH_mutation_status</th>\n",
       "      <th>1p19q_codeletion_status</th>\n",
       "    </tr>\n",
       "  </thead>\n",
       "  <tbody>\n",
       "    <tr>\n",
       "      <th>0</th>\n",
       "      <td>CGGA_1001</td>\n",
       "      <td>Primary</td>\n",
       "      <td>GBM</td>\n",
       "      <td>WHO IV</td>\n",
       "      <td>Male</td>\n",
       "      <td>11</td>\n",
       "      <td>3428.0</td>\n",
       "      <td>0.0</td>\n",
       "      <td>0.0</td>\n",
       "      <td>1.0</td>\n",
       "      <td>Wildtype</td>\n",
       "      <td>Non-codel</td>\n",
       "    </tr>\n",
       "    <tr>\n",
       "      <th>1</th>\n",
       "      <td>CGGA_1006</td>\n",
       "      <td>Primary</td>\n",
       "      <td>AA</td>\n",
       "      <td>WHO III</td>\n",
       "      <td>Male</td>\n",
       "      <td>42</td>\n",
       "      <td>254.0</td>\n",
       "      <td>1.0</td>\n",
       "      <td>1.0</td>\n",
       "      <td>1.0</td>\n",
       "      <td>Wildtype</td>\n",
       "      <td>Non-codel</td>\n",
       "    </tr>\n",
       "    <tr>\n",
       "      <th>2</th>\n",
       "      <td>CGGA_1007</td>\n",
       "      <td>Primary</td>\n",
       "      <td>GBM</td>\n",
       "      <td>WHO IV</td>\n",
       "      <td>Female</td>\n",
       "      <td>57</td>\n",
       "      <td>345.0</td>\n",
       "      <td>1.0</td>\n",
       "      <td>1.0</td>\n",
       "      <td>1.0</td>\n",
       "      <td>Wildtype</td>\n",
       "      <td>Non-codel</td>\n",
       "    </tr>\n",
       "    <tr>\n",
       "      <th>3</th>\n",
       "      <td>CGGA_1011</td>\n",
       "      <td>Primary</td>\n",
       "      <td>GBM</td>\n",
       "      <td>WHO IV</td>\n",
       "      <td>Female</td>\n",
       "      <td>46</td>\n",
       "      <td>109.0</td>\n",
       "      <td>1.0</td>\n",
       "      <td>1.0</td>\n",
       "      <td>0.0</td>\n",
       "      <td>Wildtype</td>\n",
       "      <td>Non-codel</td>\n",
       "    </tr>\n",
       "    <tr>\n",
       "      <th>4</th>\n",
       "      <td>CGGA_1015</td>\n",
       "      <td>Primary</td>\n",
       "      <td>GBM</td>\n",
       "      <td>WHO IV</td>\n",
       "      <td>Male</td>\n",
       "      <td>62</td>\n",
       "      <td>164.0</td>\n",
       "      <td>1.0</td>\n",
       "      <td>1.0</td>\n",
       "      <td>0.0</td>\n",
       "      <td>Wildtype</td>\n",
       "      <td>Non-codel</td>\n",
       "    </tr>\n",
       "  </tbody>\n",
       "</table>\n",
       "</div>"
      ],
      "text/plain": [
       "     CGGA_ID PRS_type Histology    Grade  Gender  Age      OS  Censor  \\\n",
       "0  CGGA_1001  Primary       GBM   WHO IV    Male   11  3428.0     0.0   \n",
       "1  CGGA_1006  Primary        AA  WHO III    Male   42   254.0     1.0   \n",
       "2  CGGA_1007  Primary       GBM   WHO IV  Female   57   345.0     1.0   \n",
       "3  CGGA_1011  Primary       GBM   WHO IV  Female   46   109.0     1.0   \n",
       "4  CGGA_1015  Primary       GBM   WHO IV    Male   62   164.0     1.0   \n",
       "\n",
       "   Radio_status  Chemo_status IDH_mutation_status 1p19q_codeletion_status  \n",
       "0           0.0           1.0            Wildtype               Non-codel  \n",
       "1           1.0           1.0            Wildtype               Non-codel  \n",
       "2           1.0           1.0            Wildtype               Non-codel  \n",
       "3           1.0           0.0            Wildtype               Non-codel  \n",
       "4           1.0           0.0            Wildtype               Non-codel  "
      ]
     },
     "execution_count": 4,
     "metadata": {},
     "output_type": "execute_result"
    }
   ],
   "source": [
    "clinical_data.head()"
   ]
  },
  {
   "cell_type": "markdown",
   "metadata": {},
   "source": [
    "### Data Statistics"
   ]
  },
  {
   "cell_type": "code",
   "execution_count": 5,
   "metadata": {},
   "outputs": [
    {
     "name": "stdout",
     "output_type": "stream",
     "text": [
      "Number of Data Samples: 325\n",
      "Number of Genes: 24326\n"
     ]
    }
   ],
   "source": [
    "print(f'Number of Data Samples: {len(gene_data.columns)-1}')\n",
    "print(f'Number of Genes: {len(gene_data.index)}')"
   ]
  },
  {
   "cell_type": "markdown",
   "metadata": {},
   "source": [
    "The original data set consists of 325 data samples with 24000+ genes."
   ]
  },
  {
   "cell_type": "markdown",
   "metadata": {},
   "source": [
    "## Data Preprocessing"
   ]
  },
  {
   "cell_type": "markdown",
   "metadata": {},
   "source": [
    "- Impute the class labels (tumor grade) and histology daa as some of the vales are 'NaN'\n",
    "- Impute using the most frequent value in the column"
   ]
  },
  {
   "cell_type": "code",
   "execution_count": 6,
   "metadata": {},
   "outputs": [],
   "source": [
    "class_label_col = ['Grade']\n",
    "histology_col = ['Histology']\n",
    "imputer = SimpleImputer(missing_values = np.nan, strategy = 'most_frequent')\n",
    "class_labels = imputer.fit_transform(clinical_data[class_label_col])\n",
    "histology = imputer.fit_transform(clinical_data[histology_col])\n",
    "class_labels_categories = list(np.unique(class_labels))"
   ]
  },
  {
   "cell_type": "markdown",
   "metadata": {},
   "source": [
    "### Visualize Class Distribution"
   ]
  },
  {
   "cell_type": "code",
   "execution_count": 7,
   "metadata": {},
   "outputs": [
    {
     "data": {
      "image/png": "[encoded data removed]",
      "text/plain": [
       "<Figure size 576x576 with 1 Axes>"
      ]
     },
     "metadata": {
      "needs_background": "light"
     },
     "output_type": "display_data"
    }
   ],
   "source": [
    "fig, ax = plt.subplots(1, 1, figsize=(8, 8))\n",
    "ax.hist(class_labels, bins=range(4),  color=['red'], rwidth=0.90, align='left')\n",
    "ax.set_xlabel('Grade', size=15)\n",
    "ax.set_ylabel('Count', size=15)\n",
    "ax.set_title('Distribution of Class Labels', size=15)\n",
    "plt.show()"
   ]
  },
  {
   "cell_type": "code",
   "execution_count": 8,
   "metadata": {},
   "outputs": [
    {
     "name": "stdout",
     "output_type": "stream",
     "text": [
      "Counts for labels: \n",
      "Class: WHO II, Count: 103\n",
      "Class: WHO III, Count: 79\n",
      "Class: WHO IV, Count: 143\n"
     ]
    }
   ],
   "source": [
    "unique, counts = np.unique(class_labels, return_counts=True)\n",
    "print('Counts for labels: ')\n",
    "for i in range(len(unique)):\n",
    "    print(f'Class: {unique[i]}, Count: {counts[i]}')"
   ]
  },
  {
   "cell_type": "markdown",
   "metadata": {},
   "source": [
    "### Visualize Histology Distribution"
   ]
  },
  {
   "cell_type": "code",
   "execution_count": 9,
   "metadata": {},
   "outputs": [
    {
     "data": {
      "image/png": "[encoded data removed]",
      "text/plain": [
       "<Figure size 720x720 with 1 Axes>"
      ]
     },
     "metadata": {
      "needs_background": "light"
     },
     "output_type": "display_data"
    }
   ],
   "source": [
    "fig, ax = plt.subplots(1, 1, figsize=(10, 10))\n",
    "ax.hist(histology, bins=range(11),  color=['red'], rwidth=0.90, align='left')\n",
    "ax.set_xlabel('Glioma Type', size=15)\n",
    "ax.set_ylabel('Count', size=15)\n",
    "ax.set_title('Distribution of Glioma Types', size=15)\n",
    "plt.show()"
   ]
  },
  {
   "cell_type": "code",
   "execution_count": 10,
   "metadata": {},
   "outputs": [
    {
     "name": "stdout",
     "output_type": "stream",
     "text": [
      "Counts for glioma types: \n",
      "Type: A, Count: 46\n",
      "Type: AA, Count: 38\n",
      "Type: AO, Count: 12\n",
      "Type: GBM, Count: 89\n",
      "Type: O, Count: 48\n",
      "Type: rA, Count: 10\n",
      "Type: rAA, Count: 24\n",
      "Type: rGBM, Count: 24\n",
      "Type: rO, Count: 4\n",
      "Type: sGBM, Count: 30\n"
     ]
    }
   ],
   "source": [
    "unique, counts = np.unique(histology, return_counts=True)\n",
    "print('Counts for glioma types: ')\n",
    "for i in range(len(unique)):\n",
    "    print(f'Type: {unique[i]}, Count: {counts[i]}')"
   ]
  },
  {
   "cell_type": "markdown",
   "metadata": {},
   "source": [
    "## Feature Selection\n",
    "- Select a subset of the over 24 000 features to investigate and analyze \n",
    "- NOTE: the paper that used the Chinese Glioma data did a feature selection thing called t-SNE. I tried to do it but couldn't figure it out\n",
    "<br/><br/>\n",
    "- This is the 'standard pipeline' according to Townes, F.W., Hicks, S.C., Aryee, M.J. et al. Feature selection and dimension reduction for single-cell RNA-Seq based on a multinomial model. Genome Biol 20, 295 (2019). https://doi.org/10.1186/s13059-019-1861-6:\n",
    "    - \"First, raw counts are normalized by scaling of sample-specific size factors, followed by log transformation, which attempts to reduce skewness. \n",
    "    - Next, feature selection involves identifying the top 500–2000 genes by computing either their coefficient of variation (highly variable genes [16, 17]) or average expression level (highly expressed genes) across all cells [15]. \n",
    "    - Principal component analysis (PCA) [19] is the most popular dimension reduction method (see for example tutorials for Seurat [17] and Cell Ranger [5]). \n",
    "        - PCA compresses each cell’s 2000-dimensional expression profile into, say, a 10-dimensional vector of principal component coordinates or latent factors. \n",
    "        - Prior to PCA, data are usually centered and scaled so that each gene has mean 0 and standard deviation 1 (z-score transformation). \n",
    "    - Finally, a clustering algorithm can be applied to group cells with similar representations in the low-dimensional PCA space.\"\n",
    "<br/><br/>\n",
    "- I did the step that selects by variance and the PCA (with scaling)\n",
    "- Still need to do:\n",
    "    - Normalization of raw counts\n",
    "    - Log transformation\n",
    "    - Can also try selecting by expression level instead of variance"
   ]
  },
  {
   "cell_type": "code",
   "execution_count": 11,
   "metadata": {},
   "outputs": [],
   "source": [
    "# TO DO"
   ]
  },
  {
   "cell_type": "code",
   "execution_count": 54,
   "metadata": {},
   "outputs": [
    {
     "name": "stdout",
     "output_type": "stream",
     "text": [
      "Filter reduced number of genes by 13187 from 24326 to 11139\n"
     ]
    }
   ],
   "source": [
    "# Variance filter (eliminate genes that don't vary bw samples)\n",
    "\n",
    "from sklearn.feature_selection import VarianceThreshold\n",
    "\n",
    "# Split data into train (80%) and test (20%) sets\n",
    "train_genes, test_genes, train_lbl, test_lbl = train_test_split( gene_data.loc[:, 'CGGA_1001':'CGGA_D30'].T, \n",
    "                                                                class_labels, test_size=1/5.0, random_state=0)\n",
    "\n",
    "# Make an instance of VarianceThreshold model\n",
    "selector = VarianceThreshold(12)\n",
    "\n",
    "# Eliminate genes with <50% variance\n",
    "selector.fit(train_genes)\n",
    "train_genes_filtered = selector.transform(train_genes)\n",
    "test_genes_filtered = selector.transform(test_genes)\n",
    "\n",
    "print(f\"Filter reduced number of genes by {len(gene_data.index) - len(train_genes_filtered[0])} from {len(gene_data.index)} to {len(train_genes_filtered[0])}\")\n"
   ]
  },
  {
   "cell_type": "code",
   "execution_count": 57,
   "metadata": {},
   "outputs": [
    {
     "name": "stdout",
     "output_type": "stream",
     "text": [
      "PCA with 154 components explains 0.9503251337083256 of the variance after filtering.\n"
     ]
    }
   ],
   "source": [
    "# PCA after filter\n",
    "\n",
    "# Standardize based on filtered training set\n",
    "scaler = StandardScaler()\n",
    "scaler.fit(train_genes_filtered)\n",
    "# Apply transform to both the training set and the test set.\n",
    "train_genes_filtered = scaler.transform(train_genes_filtered)\n",
    "test_genes_filtered = scaler.transform(test_genes_filtered)\n",
    "\n",
    "\n",
    "# Make an instance of the model that explains 95% of the variance\n",
    "pca = PCA(.95)\n",
    "\n",
    "# Fit the model\n",
    "pca.fit(train_genes_filtered)\n",
    "pca.transform(train_genes_filtered)\n",
    "pca.transform(test_genes_filtered)\n",
    "\n",
    "print(f'PCA with {pca.n_components_} components explains {sum(pca.explained_variance_ratio_)} of the variance after filtering.')"
   ]
  },
  {
   "cell_type": "markdown",
   "metadata": {},
   "source": [
    "## Unsupervised Machine Learning Method Analysis"
   ]
  },
  {
   "cell_type": "code",
   "execution_count": null,
   "metadata": {},
   "outputs": [],
   "source": []
  },
  {
   "cell_type": "code",
   "execution_count": 13,
   "metadata": {},
   "outputs": [],
   "source": [
    "# To Do"
   ]
  }
 ],
 "metadata": {
  "kernelspec": {
   "display_name": "Python 3",
   "language": "python",
   "name": "python3"
  },
  "language_info": {
   "codemirror_mode": {
    "name": "ipython",
    "version": 3
   },
   "file_extension": ".py",
   "mimetype": "text/x-python",
   "name": "python",
   "nbconvert_exporter": "python",
   "pygments_lexer": "ipython3",
   "version": "3.7.3"
  }
 },
 "nbformat": 4,
 "nbformat_minor": 2
}
